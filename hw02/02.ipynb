{
 "cells": [
  {
   "cell_type": "code",
   "execution_count": 37,
   "metadata": {},
   "outputs": [],
   "source": [
    "import numpy as np\n",
    "import os\n",
    "from torchvision import transforms\n",
    "from PIL import Image\n",
    "from datasets import Dataset\n",
    "from sklearn.model_selection import train_test_split\n",
    "\n",
    "import torch\n",
    "import torch.nn as nn\n",
    "import torch.optim as optim\n",
    "from torch.utils.data import DataLoader\n",
    "from torchvision.transforms import ToTensor\n",
    "from sklearn.metrics import classification_report, accuracy_score\n",
    "import torch.nn.functional as F"
   ]
  },
  {
   "cell_type": "markdown",
   "metadata": {},
   "source": [
    "## Data preprocessing"
   ]
  },
  {
   "cell_type": "code",
   "execution_count": 38,
   "metadata": {},
   "outputs": [],
   "source": [
    "class PokemonDataset:\n",
    "    def __init__(self, data_dir: str):\n",
    "        self.data_dir = data_dir\n",
    "        self.pokemons_names = os.listdir(data_dir)[0:10]\n",
    "        self.data = []\n",
    "        self.labels = []\n",
    "        self.prepare_dataset()\n",
    "\n",
    "    def load_image(self, filepath: str):\n",
    "        img = Image.open(filepath).convert(\"RGB\")\n",
    "        return img\n",
    "\n",
    "    def get_images_for_one_pokemon(self, pokemon_name: str):\n",
    "        paths = os.listdir(os.path.join(self.data_dir, pokemon_name))\n",
    "        images = [self.load_image(os.path.join(self.data_dir, pokemon_name, path)) for path in paths]\n",
    "        augmented_images = []\n",
    "        for image in images:\n",
    "            augmented_images.extend(self.augment_image(image=image))\n",
    "\n",
    "        images = list(map(transforms.Resize((128, 128)), images))\n",
    "        images = list(map(transforms.Grayscale(), images))\n",
    "        return images + augmented_images\n",
    "\n",
    "    def augment_image(self, image, n_augmented_images: int = 10):\n",
    "        transform = transforms.Compose([\n",
    "            transforms.Resize((128, 128)),\n",
    "            transforms.RandomHorizontalFlip(p=np.random.random()),\n",
    "            transforms.RandomRotation(degrees=np.random.uniform(low=1, high=45)),\n",
    "            transforms.GaussianBlur(kernel_size=5),\n",
    "            transforms.Grayscale()\n",
    "        ])\n",
    "        return [transform(image) for _ in range(n_augmented_images)]\n",
    "\n",
    "    def prepare_dataset(self):\n",
    "        \n",
    "        for idx, name in enumerate(self.pokemons_names):\n",
    "            images = self.get_images_for_one_pokemon(name)\n",
    "            images = [ToTensor()(image) for image in images]  # Convert images to tensors\n",
    "            self.data.extend(images)\n",
    "            self.labels.extend([idx] * len(images))\n",
    "\n",
    "    def to_huggingface_dataset(self):\n",
    "        dataset = Dataset.from_dict({\"image\": self.data, \"label\": self.labels})\n",
    "        return dataset\n",
    "\n",
    "    def train_test_split(self, test_size=0.2, random_state=42):\n",
    "        train_data, test_data, train_labels, test_labels = train_test_split(\n",
    "            self.data, self.labels, test_size=test_size, random_state=random_state\n",
    "        )\n",
    "        train_dataset = Dataset.from_dict({\"image\": train_data, \"label\": train_labels})\n",
    "        test_dataset = Dataset.from_dict({\"image\": test_data, \"label\": test_labels})\n",
    "        return train_dataset, test_dataset"
   ]
  },
  {
   "cell_type": "code",
   "execution_count": 39,
   "metadata": {},
   "outputs": [],
   "source": [
    "# Load dataset\n",
    "dataset = PokemonDataset(data_dir=\"../data/pokemons/\")"
   ]
  },
  {
   "cell_type": "code",
   "execution_count": null,
   "metadata": {},
   "outputs": [],
   "source": [
    "print(f\"Unique Pokemons: {len(dataset.pokemons_names)}\")\n",
    "print(f\"Images per Pokemon on average: {len(dataset.labels) // len(dataset.pokemons_names)}\")"
   ]
  },
  {
   "cell_type": "code",
   "execution_count": 41,
   "metadata": {},
   "outputs": [],
   "source": [
    "# Split dataset into train and test\n",
    "train_dataset, test_dataset = dataset.train_test_split(test_size=0.2)"
   ]
  },
  {
   "cell_type": "code",
   "execution_count": 42,
   "metadata": {},
   "outputs": [],
   "source": [
    "\n",
    "# Изменение последовательности для загрузчика\n",
    "def collate_batch(batch):\n",
    "    imgs = [item[\"image\"] for item in batch]\n",
    "    imgs = torch.tensor(imgs)\n",
    "    targets = list(map(lambda item: item[\"label\"], batch))\n",
    "    targets = torch.tensor(targets)\n",
    "    return imgs, targets\n",
    "\n",
    "# Prepare data loaders\n",
    "train_loader = DataLoader(train_dataset, batch_size=32, shuffle=True, collate_fn=collate_batch)\n",
    "test_loader = DataLoader(test_dataset, batch_size=32, shuffle=False, collate_fn=collate_batch)"
   ]
  },
  {
   "cell_type": "code",
   "execution_count": null,
   "metadata": {},
   "outputs": [],
   "source": [
    "len(set(dataset.labels))"
   ]
  },
  {
   "cell_type": "code",
   "execution_count": 34,
   "metadata": {},
   "outputs": [],
   "source": [
    "class LeNet(nn.Module):\n",
    "    def __init__(self):\n",
    "        super(LeNet, self).__init__()\n",
    "        self.conv1 = nn.Conv2d(1, 6, 5)\n",
    "        self.pool = nn.MaxPool2d(2, 2)\n",
    "        self.conv2 = nn.Conv2d(6, 16, 5)\n",
    "        self.fc1 = nn.Linear(16 * 29 * 29, 120)\n",
    "        self.fc2 = nn.Linear(120, len(dataset.pokemons_names))\n",
    "\n",
    "    def forward(self, x):\n",
    "        x = self.conv1(x)\n",
    "        x = F.relu(x)\n",
    "        x = self.pool(x)\n",
    "        x = self.conv2(x)\n",
    "        x = F.relu(x)\n",
    "        x = self.pool(x)\n",
    "        x = x.view(-1, 16 * 29 * 29)\n",
    "        x = self.fc1(x)\n",
    "        x = F.relu(x)\n",
    "        x = self.fc2(x)\n",
    "        return x"
   ]
  },
  {
   "cell_type": "code",
   "execution_count": null,
   "metadata": {},
   "outputs": [],
   "source": [
    "# Initialize model, loss function, and optimizer\n",
    "model = LeNet()\n",
    "criterion = nn.CrossEntropyLoss()\n",
    "optimizer = optim.Adam(model.parameters(), lr=0.001)\n",
    "\n",
    "# Training loop\n",
    "num_epochs = 10\n",
    "for epoch in range(num_epochs):\n",
    "    model.train()\n",
    "    running_loss = 0.0\n",
    "    for images, labels in train_loader:\n",
    "        optimizer.zero_grad()\n",
    "        outputs = model(images)\n",
    "        loss = criterion(outputs, labels)\n",
    "        loss.backward()\n",
    "        optimizer.step()\n",
    "        running_loss += loss.item()\n",
    "    print(f'Epoch [{epoch+1}/{num_epochs}], Loss: {running_loss/len(train_loader):.4f}')\n",
    "\n",
    "# Evaluation\n",
    "model.eval()\n",
    "all_preds = []\n",
    "all_labels = []\n",
    "with torch.no_grad():\n",
    "    for images, labels in test_loader:\n",
    "        outputs = model(images)\n",
    "        _, preds = torch.max(outputs, 1)\n",
    "        all_preds.extend(preds.numpy())\n",
    "        all_labels.extend(labels.numpy())\n",
    "\n",
    "# Calculate metrics\n",
    "accuracy = accuracy_score(all_labels, all_preds)\n",
    "report = classification_report(all_labels, all_preds, target_names=dataset.pokemons_names)\n",
    "print(f'Accuracy: {accuracy:.4f}')\n",
    "print('Classification Report:')\n",
    "print(report)"
   ]
  },
  {
   "cell_type": "code",
   "execution_count": null,
   "metadata": {},
   "outputs": [],
   "source": []
  }
 ],
 "metadata": {
  "kernelspec": {
   "display_name": ".venv",
   "language": "python",
   "name": "python3"
  },
  "language_info": {
   "codemirror_mode": {
    "name": "ipython",
    "version": 3
   },
   "file_extension": ".py",
   "mimetype": "text/x-python",
   "name": "python",
   "nbconvert_exporter": "python",
   "pygments_lexer": "ipython3",
   "version": "3.12.3"
  }
 },
 "nbformat": 4,
 "nbformat_minor": 2
}
