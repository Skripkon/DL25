{
 "cells": [
  {
   "cell_type": "code",
   "execution_count": null,
   "metadata": {},
   "outputs": [],
   "source": [
    "import os\n",
    "\n",
    "import numpy as np\n",
    "from PIL import Image\n",
    "from tqdm import tqdm\n",
    "from datasets import Dataset\n",
    "import matplotlib.pyplot as plt\n",
    "from sklearn.metrics import accuracy_score, precision_score, recall_score\n",
    "\n",
    "import torch\n",
    "import torch.nn as nn\n",
    "import torch.optim as optim\n",
    "import torch.nn.functional as F\n",
    "from torchvision import transforms\n",
    "from torch.utils.data import DataLoader\n",
    "from torchvision.transforms import ToTensor\n",
    "from torch.utils.tensorboard import SummaryWriter\n",
    "\n",
    "import warnings\n",
    "warnings.filterwarnings(\"ignore\")"
   ]
  },
  {
   "cell_type": "markdown",
   "metadata": {},
   "source": [
    "## Data preprocessing"
   ]
  },
  {
   "cell_type": "code",
   "execution_count": 2,
   "metadata": {},
   "outputs": [],
   "source": [
    "class PokemonDataset:\n",
    "    \"\"\"\n",
    "    A dataset class for loading and processing images of Pokemon.\n",
    "\n",
    "    This class handles loading images from a directory, resizing them,\n",
    "    converting them to tensors, and performing data augmentation for\n",
    "    model training. It also provides a method to split the data into \n",
    "    training and testing sets.\n",
    "\n",
    "    Attributes:\n",
    "        data_dir (str): Path to the directory containing Pokemon images.\n",
    "        pokemons_names (list): List of Pokemon names corresponding to subdirectories.\n",
    "        data (list): List of processed image tensors.\n",
    "        labels (list): List of integer labels corresponding to each image.\n",
    "    \"\"\"\n",
    "\n",
    "    def __init__(self, data_dir: str):\n",
    "        \"\"\"\n",
    "        Initializes the PokemonDataset object.\n",
    "\n",
    "        Args:\n",
    "            data_dir (str): Path to the directory containing Pokemon images.\n",
    "        \"\"\"\n",
    "        self.data_dir = data_dir\n",
    "        self.pokemons_names = os.listdir(data_dir)\n",
    "        self.data = []\n",
    "        self.labels = []\n",
    "        self.prepare_dataset()\n",
    "\n",
    "    def load_image(self, filepath: str):\n",
    "        \"\"\"\n",
    "        Loads an image from the specified file path and converts it to RGB.\n",
    "\n",
    "        Args:\n",
    "            filepath (str): Path to the image file.\n",
    "\n",
    "        Returns:\n",
    "            PIL.Image: The loaded image in RGB mode.\n",
    "        \"\"\"\n",
    "        return Image.open(filepath).convert(\"RGB\")\n",
    "\n",
    "    def get_images_for_one_pokemon(self, pokemon_name: str):\n",
    "        \"\"\"\n",
    "        Loads and resizes all images for a given Pokemon name.\n",
    "\n",
    "        Args:\n",
    "            pokemon_name (str): The name of the Pokemon whose images to load.\n",
    "\n",
    "        Returns:\n",
    "            list: A list of resized PIL.Image objects for the Pokemon.\n",
    "        \"\"\"\n",
    "        pokemon_dir = os.path.join(self.data_dir, pokemon_name)\n",
    "        paths = os.listdir(pokemon_dir)\n",
    "        images = [self.load_image(os.path.join(pokemon_dir, path)) for path in paths]\n",
    "        resized_images = list(map(transforms.Resize((64, 64)), images))\n",
    "        return resized_images\n",
    "\n",
    "    def prepare_dataset(self):\n",
    "        \"\"\"\n",
    "        Prepares the dataset by loading, resizing, and converting images to tensors.\n",
    "        It also generates corresponding labels for each image.\n",
    "        \"\"\"\n",
    "        for idx, name in enumerate(self.pokemons_names):\n",
    "            images = self.get_images_for_one_pokemon(name)\n",
    "            images = [ToTensor()(image) for image in images]\n",
    "            self.data.extend(images)\n",
    "            self.labels.extend([idx] * len(images))\n",
    "\n",
    "    def train_test_split(self):\n",
    "        \"\"\"\n",
    "        Splits the dataset into training and testing sets. \n",
    "        Ensures at least one sample per class is included in the test set.\n",
    "\n",
    "        Returns:\n",
    "            tuple: \n",
    "                - train_dataset (Dataset): Training dataset with augmented images.\n",
    "                - train_original_dataset (Dataset): Original training dataset without augmentation.\n",
    "                - test_dataset (Dataset): Testing dataset.\n",
    "        \"\"\"\n",
    "        train_data, test_data, train_labels, test_labels = [], [], [], []\n",
    "        class_to_samples = {}\n",
    "\n",
    "        # Group samples by class\n",
    "        for sample, label in zip(self.data, self.labels):\n",
    "            class_to_samples[label] = class_to_samples.get(label, []) + [sample]\n",
    "\n",
    "        # Split into train and test sets\n",
    "        for label, samples in class_to_samples.items():\n",
    "            train_data.extend(samples[:-1])\n",
    "            train_labels.extend([label] * (len(samples) - 1))\n",
    "            if len(samples) > 1:\n",
    "                test_data.append(samples[-1])\n",
    "                test_labels.append(label)\n",
    "\n",
    "        # Augment the training data\n",
    "        train_data_augmented, train_labels_augmented = self.augment_data(train_data, train_labels)\n",
    "\n",
    "        # Create Hugging Face Datasets\n",
    "        train_dataset = Dataset.from_dict({\n",
    "            \"image\": train_data + train_data_augmented, \n",
    "            \"label\": train_labels + train_labels_augmented\n",
    "        })\n",
    "        train_original_dataset = Dataset.from_dict({\n",
    "            \"image\": train_data, \n",
    "            \"label\": train_labels\n",
    "        })\n",
    "        test_dataset = Dataset.from_dict({\n",
    "            \"image\": test_data, \n",
    "            \"label\": test_labels\n",
    "        })\n",
    "\n",
    "        return train_dataset, train_original_dataset, test_dataset\n",
    "\n",
    "    def augment_image(self, image, n_augmented_images: int = 20):\n",
    "        \"\"\"\n",
    "        Generates augmented images for a given input image.\n",
    "\n",
    "        Args:\n",
    "            image (Tensor): The input image to augment.\n",
    "            n_augmented_images (int): Number of augmented images to generate. Default is 10.\n",
    "\n",
    "        Returns:\n",
    "            list: A list of augmented images as tensors.\n",
    "        \"\"\"\n",
    "        augmentations = [\n",
    "            transforms.RandomHorizontalFlip(p=0.5),\n",
    "            transforms.RandomRotation(degrees=np.random.uniform(1, 90)),\n",
    "            transforms.GaussianBlur(kernel_size=(3, 3)),\n",
    "            transforms.RandomAffine(degrees=np.random.uniform(1, 90)),\n",
    "            transforms.ColorJitter(brightness=0.2, contrast=0.2, saturation=0.2, hue=0.1),\n",
    "            transforms.RandomPerspective(distortion_scale=0.5, p=0.5),\n",
    "            transforms.RandomErasing(p=0.3, scale=(0.02, 0.2), ratio=(0.3, 3.3), value=0)\n",
    "        ]\n",
    "\n",
    "        return [\n",
    "            transforms.Compose([\n",
    "                transforms.RandomChoice([\n",
    "                    transforms.RandomApply([aug], p=0.5) for aug in augmentations\n",
    "                ])\n",
    "            ])(image) for _ in range(n_augmented_images)\n",
    "        ]\n",
    "\n",
    "    def augment_data(self, X, y):\n",
    "        \"\"\"\n",
    "        Augments the training data by generating new images using data augmentation techniques.\n",
    "\n",
    "        Args:\n",
    "            X (list): List of input images as tensors.\n",
    "            y (list): List of corresponding labels for the input images.\n",
    "\n",
    "        Returns:\n",
    "            tuple:\n",
    "                - augmented_data_X (list): List of augmented images.\n",
    "                - augmented_data_y (list): Corresponding labels for the augmented images.\n",
    "        \"\"\"\n",
    "        augmented_data_X, augmented_data_y = [], []\n",
    "        for sample_X, sample_y in zip(X, y):\n",
    "            new_images = self.augment_image(image=sample_X)\n",
    "            augmented_data_X.extend(new_images)\n",
    "            augmented_data_y.extend([sample_y] * len(new_images))\n",
    "        return augmented_data_X, augmented_data_y"
   ]
  },
  {
   "cell_type": "code",
   "execution_count": 3,
   "metadata": {},
   "outputs": [
    {
     "name": "stdout",
     "output_type": "stream",
     "text": [
      "Unique Pokemons: 898\n",
      "Images per Pokemon on average: 2\n"
     ]
    }
   ],
   "source": [
    "# Load dataset\n",
    "dataset = PokemonDataset(data_dir=\"../data/pokemons/\")\n",
    "\n",
    "print(f\"Unique Pokemons: {len(dataset.pokemons_names)}\")\n",
    "print(f\"Images per Pokemon on average: {len(dataset.labels) // len(dataset.pokemons_names)}\")"
   ]
  },
  {
   "cell_type": "markdown",
   "metadata": {},
   "source": [
    "### Split dataset into train and test, augment the training data"
   ]
  },
  {
   "cell_type": "code",
   "execution_count": 4,
   "metadata": {},
   "outputs": [],
   "source": [
    "train_dataset, train_original_dataset, test_dataset = dataset.train_test_split()"
   ]
  },
  {
   "cell_type": "code",
   "execution_count": 5,
   "metadata": {},
   "outputs": [
    {
     "data": {
      "text/plain": [
       "Dataset({\n",
       "    features: ['image', 'label'],\n",
       "    num_rows: 33705\n",
       "})"
      ]
     },
     "execution_count": 5,
     "metadata": {},
     "output_type": "execute_result"
    }
   ],
   "source": [
    "train_dataset"
   ]
  },
  {
   "cell_type": "markdown",
   "metadata": {},
   "source": [
    "### Note:\n",
    "\n",
    "Test contains one image per Pokemon.\n",
    "\n",
    "But there are 54 pokemonts that are represented by only one exemplar. Those were put into the training dataset."
   ]
  },
  {
   "cell_type": "code",
   "execution_count": 6,
   "metadata": {},
   "outputs": [
    {
     "data": {
      "text/plain": [
       "Dataset({\n",
       "    features: ['image', 'label'],\n",
       "    num_rows: 844\n",
       "})"
      ]
     },
     "execution_count": 6,
     "metadata": {},
     "output_type": "execute_result"
    }
   ],
   "source": [
    "test_dataset"
   ]
  },
  {
   "cell_type": "markdown",
   "metadata": {},
   "source": [
    "# Prepare input data"
   ]
  },
  {
   "cell_type": "code",
   "execution_count": 7,
   "metadata": {},
   "outputs": [],
   "source": [
    "BATCH_SIZE = 16\n",
    "\n",
    "# Change sequence for the data loader\n",
    "def collate_batch(batch):\n",
    "    imgs = [item[\"image\"] for item in batch]\n",
    "    imgs = torch.tensor(imgs)\n",
    "    targets = list(map(lambda item: item[\"label\"], batch))\n",
    "    targets = torch.tensor(targets)\n",
    "    return imgs, targets\n",
    "\n",
    "# Prepare data loaders\n",
    "train_loader = DataLoader(train_dataset, batch_size=BATCH_SIZE, shuffle=True, collate_fn=collate_batch)\n",
    "train_original_loader = DataLoader(train_original_dataset, batch_size=BATCH_SIZE, shuffle=False, collate_fn=collate_batch)\n",
    "test_loader = DataLoader(test_dataset, batch_size=BATCH_SIZE, shuffle=False, collate_fn=collate_batch)"
   ]
  },
  {
   "cell_type": "markdown",
   "metadata": {},
   "source": [
    "# Define a neural network architecture"
   ]
  },
  {
   "cell_type": "code",
   "execution_count": 8,
   "metadata": {},
   "outputs": [],
   "source": [
    "class PokemonNet(nn.Module):\n",
    "    def __init__(self, num_classes: int):\n",
    "        super(PokemonNet, self).__init__()\n",
    "    \n",
    "        self.conv1 = nn.Conv2d(3, 6, 3)\n",
    "        self.bn1 = nn.BatchNorm2d(num_features=6)\n",
    "        self.relu1 = nn.ReLU()\n",
    "        self.pool1 = nn.MaxPool2d(2)\n",
    "    \n",
    "        self.conv2 = nn.Conv2d(6, 16, 3)\n",
    "        self.bn2 = nn.BatchNorm2d(num_features=16)\n",
    "        self.relu2 = nn.ReLU()\n",
    "        self.pool2 = nn.MaxPool2d(2)\n",
    "\n",
    "        self.fc1 = nn.Linear(3136, num_classes)\n",
    "\n",
    "    def forward(self, x):\n",
    "        # Block 1\n",
    "        y = self.conv1(x)\n",
    "        y = self.bn1(y)\n",
    "        y = self.relu1(y)\n",
    "        y = self.pool1(y)\n",
    "    \n",
    "        # Block 2\n",
    "        y = self.conv2(y)\n",
    "        y = self.bn2(y)\n",
    "        y = self.relu2(y)\n",
    "        y = self.pool2(y)\n",
    "\n",
    "        y = y.view(y.shape[0], -1)\n",
    "        y = self.fc1(y)\n",
    "        return y"
   ]
  },
  {
   "cell_type": "markdown",
   "metadata": {},
   "source": [
    "# Set up training"
   ]
  },
  {
   "cell_type": "code",
   "execution_count": 9,
   "metadata": {},
   "outputs": [
    {
     "name": "stdout",
     "output_type": "stream",
     "text": [
      "Device: NVIDIA GeForce RTX 4060\n"
     ]
    }
   ],
   "source": [
    "device = torch.device(\"cuda\" if torch.cuda.is_available() else \"cpu\")\n",
    "match device.type:\n",
    "    case \"cuda\":\n",
    "        print(f\"Device: {torch.cuda.get_device_name()}\")\n",
    "    case \"cpu\":\n",
    "        print(\"Device: CPU\")"
   ]
  },
  {
   "cell_type": "code",
   "execution_count": 10,
   "metadata": {},
   "outputs": [],
   "source": [
    "# Initialize model, loss function, and optimizer\n",
    "model = PokemonNet(num_classes=len(dataset.pokemons_names)).to(device)\n",
    "criterion = nn.CrossEntropyLoss()\n",
    "optimizer = optim.Adam(model.parameters(), lr=0.001)"
   ]
  },
  {
   "cell_type": "code",
   "execution_count": 11,
   "metadata": {},
   "outputs": [],
   "source": [
    "n_samples: int = train_dataset.num_rows\n",
    "n_iters_per_epoch: int = n_samples // BATCH_SIZE"
   ]
  },
  {
   "cell_type": "code",
   "execution_count": 12,
   "metadata": {},
   "outputs": [
    {
     "name": "stderr",
     "output_type": "stream",
     "text": [
      "Epoch 1/5, Loss: 2.1726: 100%|██████████| 2107/2107 [06:33<00:00,  5.35it/s]  \n"
     ]
    },
    {
     "name": "stdout",
     "output_type": "stream",
     "text": [
      "Epoch [1/5], Avg Loss: 1.1923\n"
     ]
    },
    {
     "name": "stderr",
     "output_type": "stream",
     "text": [
      "Epoch 2/5, Loss: 0.0196: 100%|██████████| 2107/2107 [06:43<00:00,  5.23it/s]  \n"
     ]
    },
    {
     "name": "stdout",
     "output_type": "stream",
     "text": [
      "Epoch [2/5], Avg Loss: 0.0876\n"
     ]
    },
    {
     "name": "stderr",
     "output_type": "stream",
     "text": [
      "Epoch 3/5, Loss: 0.0019: 100%|██████████| 2107/2107 [06:26<00:00,  5.45it/s] \n"
     ]
    },
    {
     "name": "stdout",
     "output_type": "stream",
     "text": [
      "Epoch [3/5], Avg Loss: 0.0287\n"
     ]
    },
    {
     "name": "stderr",
     "output_type": "stream",
     "text": [
      "Epoch 4/5, Loss: 0.0050: 100%|██████████| 2107/2107 [07:10<00:00,  4.89it/s]  \n"
     ]
    },
    {
     "name": "stdout",
     "output_type": "stream",
     "text": [
      "Epoch [4/5], Avg Loss: 0.0176\n"
     ]
    },
    {
     "name": "stderr",
     "output_type": "stream",
     "text": [
      "Epoch 5/5, Loss: 0.0010: 100%|██████████| 2107/2107 [06:46<00:00,  5.18it/s]  "
     ]
    },
    {
     "name": "stdout",
     "output_type": "stream",
     "text": [
      "Epoch [5/5], Avg Loss: 0.0171\n"
     ]
    },
    {
     "name": "stderr",
     "output_type": "stream",
     "text": [
      "\n"
     ]
    }
   ],
   "source": [
    "# Initialize TensorBoard writer\n",
    "writer = SummaryWriter(log_dir='logs')\n",
    "\n",
    "def evaluate_model(data_loader: DataLoader, phase: str, iteration: int):\n",
    "    model.eval()\n",
    "    all_preds = []\n",
    "    all_labels = []\n",
    "    with torch.no_grad():\n",
    "        for images, labels in data_loader:\n",
    "            images, labels = images.to(device), labels.to(device)\n",
    "            outputs = model(images)\n",
    "            _, preds = torch.max(outputs, dim=1)\n",
    "            all_preds.extend(preds.cpu().numpy())\n",
    "            all_labels.extend(labels.cpu().numpy())\n",
    "\n",
    "    # Calculate metrics\n",
    "    accuracy = accuracy_score(all_labels, all_preds)\n",
    "    recall = recall_score(all_labels, all_preds, average=\"micro\")\n",
    "    precision = precision_score(all_labels, all_preds, average=\"micro\")\n",
    "\n",
    "    # Log accuracy to TensorBoard\n",
    "    writer.add_scalar(f'{phase}/Accuracy', accuracy, iteration)\n",
    "    writer.add_scalar(f'{phase}/Recall', recall, iteration)\n",
    "    writer.add_scalar(f'{phase}/Precision', precision, iteration)\n",
    "    \n",
    "    return accuracy\n",
    "\n",
    "n_epochs: int = 5\n",
    "\n",
    "for epoch in range(n_epochs):\n",
    "    model.train()\n",
    "    running_loss: float = 0.0\n",
    "    progress_bar: tqdm = tqdm(train_loader, desc=f'Epoch {epoch+1}/{n_epochs}, Loss: inf')\n",
    "    \n",
    "    for idx, (images, labels) in enumerate(progress_bar):\n",
    "        iteration: int = epoch * len(train_loader) + idx\n",
    "    \n",
    "        # Halve the learning rate every 1000 iterations (for better convergence)\n",
    "        if iteration > 0 and iteration % 1000 == 0:\n",
    "            for param_group in optimizer.param_groups:\n",
    "                param_group['lr'] *= 0.5\n",
    "\n",
    "        images, labels = images.to(device), labels.to(device)\n",
    "        optimizer.zero_grad()\n",
    "        outputs = model(images)\n",
    "        loss = criterion(outputs, labels)\n",
    "        loss.backward()\n",
    "        torch.nn.utils.clip_grad_norm_(model.parameters(), max_norm=1)\n",
    "        optimizer.step()\n",
    "        running_loss += loss.item()\n",
    "        \n",
    "        # Update tqdm bar description with the current loss\n",
    "        progress_bar.set_description(f'Epoch {epoch+1}/{n_epochs}, Loss: {loss.item():.4f}')\n",
    "\n",
    "        # Log loss to TensorBoard\n",
    "        writer.add_scalar('Train/Loss', loss.item(), iteration)\n",
    "\n",
    "        # Evaluate and log accuracy every 100 iterations\n",
    "        if iteration % 200 == 0:\n",
    "            train_acc = evaluate_model(train_original_loader, 'Train', iteration)\n",
    "            test_acc = evaluate_model(test_loader, 'Test', iteration)\n",
    "            model.train()\n",
    "\n",
    "    avg_loss = running_loss / len(train_loader)\n",
    "    print(f'Epoch [{epoch + 1}/{n_epochs}], Avg Loss: {avg_loss:.4f}')\n",
    "\n",
    "# Close the writer\n",
    "writer.close()"
   ]
  },
  {
   "cell_type": "markdown",
   "metadata": {},
   "source": [
    "# Saving & Loading Model for Inference"
   ]
  },
  {
   "cell_type": "code",
   "execution_count": 13,
   "metadata": {},
   "outputs": [],
   "source": [
    "# Save\n",
    "torch.save(model.state_dict(), \"model_checkpoint\")"
   ]
  },
  {
   "cell_type": "code",
   "execution_count": 14,
   "metadata": {},
   "outputs": [],
   "source": [
    "# Load\n",
    "model = PokemonNet(num_classes=len(dataset.pokemons_names)).to(device)\n",
    "model.load_state_dict(torch.load(\"model_checkpoint\", weights_only=True))\n",
    "model.eval();"
   ]
  },
  {
   "cell_type": "markdown",
   "metadata": {},
   "source": [
    "### Is model confident in its predictions?"
   ]
  },
  {
   "cell_type": "code",
   "execution_count": 15,
   "metadata": {},
   "outputs": [
    {
     "data": {
      "image/png": "[encoded data removed]",
      "text/plain": [
       "<Figure size 640x480 with 1 Axes>"
      ]
     },
     "metadata": {},
     "output_type": "display_data"
    }
   ],
   "source": [
    "max_probs = []\n",
    "\n",
    "with torch.no_grad():\n",
    "    for images, labels in test_loader:\n",
    "        images, labels = images.to(device), labels.to(device)\n",
    "        outputs = model(images)\n",
    "        \n",
    "        # Convert raw outputs to probabilities\n",
    "        probs = F.softmax(outputs, dim=1)\n",
    "        # Get maximum probas for each image\n",
    "        max_batch_probs = torch.max(probs, dim=1).values.cpu().numpy()\n",
    "        # Keep these probas\n",
    "        max_probs.extend(max_batch_probs)\n",
    "\n",
    "# Visualization\n",
    "max_probs = np.array(max_probs)\n",
    "plt.hist(max_probs, bins=20, edgecolor='black')\n",
    "plt.title('Distribution of Maximum Probabilities')\n",
    "plt.xlabel('Maximum Probability')\n",
    "plt.ylabel('Frequency')\n",
    "plt.grid(True)\n",
    "plt.show()"
   ]
  },
  {
   "cell_type": "markdown",
   "metadata": {},
   "source": [
    "### The plot clearly indicates that the model is very uncertain in most cases."
   ]
  },
  {
   "cell_type": "markdown",
   "metadata": {},
   "source": [
    "# Insights, Observations, and Conclusions\n",
    "\n",
    "- Training without augmentation is ineffective due to the limited amount of data (only 1–5 samples per class).\n",
    "- Diversifying the types of augmentations significantly improved performance.\n",
    "- Utilizing batch normalization layers greatly enhanced convergence.\n",
    "- Reducing three channels (RGB) to one (grayscale) severely degraded performance. Apparently, color plays a crucial role in distinguishing Pokemon.\n",
    "- Initial augmentation provided substantial improvements, but the quality gains diminished exponentially as the number of augmented samples increased.\n",
    "- Different activation functions were tested (ReLU, Sigmoid, CELU, GELU, Tanh), but none outperformed ReLU.\n",
    "- **Main Problem:** Stochastic loss after ~1000 iterations, primarily caused by insufficient data.\n",
    "- Small batch size (say, 16) improved convergence.\n",
    "- A model with two convolutional blocks (Conv-BN-ReLU-Pool) performed better than models with one or three blocks.\n",
    "- Pokemon exhibit high variability. Large batch sizes negatively impacted performance.\n",
    "- Using a custom train-test split improved accuracy from 30% to 40%.\n",
    "- Possible improvements: collect more data, reduce overfittig (i.e. add dropouts)"
   ]
  },
  {
   "cell_type": "markdown",
   "metadata": {},
   "source": [
    "# Plots: see ```hw02/plots```"
   ]
  }
 ],
 "metadata": {
  "kernelspec": {
   "display_name": ".venv",
   "language": "python",
   "name": "python3"
  },
  "language_info": {
   "codemirror_mode": {
    "name": "ipython",
    "version": 3
   },
   "file_extension": ".py",
   "mimetype": "text/x-python",
   "name": "python",
   "nbconvert_exporter": "python",
   "pygments_lexer": "ipython3",
   "version": "3.12.3"
  }
 },
 "nbformat": 4,
 "nbformat_minor": 2
}
